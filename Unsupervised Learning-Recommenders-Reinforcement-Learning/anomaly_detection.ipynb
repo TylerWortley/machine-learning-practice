{
 "cells": [
  {
   "cell_type": "markdown",
   "metadata": {},
   "source": [
    " "
   ]
  },
  {
   "cell_type": "markdown",
   "metadata": {},
   "source": [
    "flag example if p(X_test) < epsilon"
   ]
  },
  {
   "cell_type": "markdown",
   "metadata": {},
   "source": [
    "## \n",
    "- **Density Estimation** - a model to estimate the probability p(x) = p(x1) * p(x2)\n",
    "    - assumes statistically independent but should work fine even if they are dependent\n",
    "\n",
    "## Anomaly Detection Algorithm\n",
    "1. Choose n features zi that you think may be indicative of anomalous examples\n",
    "2. Fit parameters μ 1...n and σ^2 1...n\n",
    "    - μ_j = 1/m * sum(x)\n",
    "    - σ^2 = 1.m * sum(x - μj)\n",
    "3. Given a new example x, compute p(x) = \n",
    "4. Flag as anomaly if p(x) < epsilon"
   ]
  }
 ],
 "metadata": {
  "language_info": {
   "name": "python"
  }
 },
 "nbformat": 4,
 "nbformat_minor": 2
}
