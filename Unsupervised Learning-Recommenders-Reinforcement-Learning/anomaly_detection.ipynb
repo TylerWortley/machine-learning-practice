{
 "cells": [
  {
   "cell_type": "markdown",
   "metadata": {},
   "source": [
    " "
   ]
  },
  {
   "cell_type": "markdown",
   "metadata": {},
   "source": [
    "flag example if p(X_test) < epsilon"
   ]
  },
  {
   "cell_type": "markdown",
   "metadata": {},
   "source": [
    "## \n",
    "- **Density Estimation** - a model to estimate the probability p(x) = p(x1) * p(x2)\n",
    "    - assumes statistically independent but should work fine even if they are dependent\n",
    "\n",
    "## Anomaly Detection Algorithm\n",
    "1. Choose n features zi that you think may be indicative of anomalous examples\n",
    "2. Fit parameters μ 1...n and σ^2 1...n\n",
    "    - μ_j = 1/m * sum(x)\n",
    "    - σ^2 = 1.m * sum(x - μj)\n",
    "3. Given a new example x, compute p(x) = \n",
    "4. Flag as anomaly if p(x) < epsilon"
   ]
  },
  {
   "cell_type": "markdown",
   "metadata": {},
   "source": [
    "- very useful to have a small number of anomolous examples to create a cross validation set and test set\n",
    "- train algorithm on training set (fit gaussian ditribution to these examples)\n",
    "- on cross validaiton set, can see how many are correctly flagged - can tune epsilon to be set higher or lower depnding on rate of false positives or false negatives"
   ]
  },
  {
   "cell_type": "markdown",
   "metadata": {},
   "source": [
    "## Algorithm Evaluation\n",
    "- fit model p(x) on training set\n",
    "- on a cross validation set, predict y = 1 if p(x) < epsilon, or y = 0 if p(x) >= epsilon\n",
    "- possible metrics\n",
    "    - true positive, false positive, false negative, true negative\n",
    "    - precision/recall\n",
    "    - F1 score"
   ]
  },
  {
   "cell_type": "markdown",
   "metadata": {},
   "source": [
    "## Anomoly Detection vs Supervised Learning\n",
    "\n",
    "**Anomoly Detection**\n",
    "- very small number of positive examples (0-20), large number of negative examples\n",
    "- many \"types\" of abomalies\n",
    "- future anomalies may look nothing like previous anomolies\n",
    "\n",
    "**Supervised Learning**\n",
    "- large number of positive and negative examples\n",
    "- future positive examples likely to be similar to ones in training set"
   ]
  },
  {
   "cell_type": "markdown",
   "metadata": {},
   "source": [
    "**Features**\n",
    "- ideally transform features to be gaussian\n",
    "    - log(x1), log(x1+c), sqrt(x1) could all be potential transofmrations\n",
    "    - use a histogram to see shape\n",
    "- common problem: p(x) is comparable for normal ad anomalous examples  (i.e large for both)\n",
    "    - try to identify new feature that makes it distinct/different from other examples"
   ]
  }
 ],
 "metadata": {
  "language_info": {
   "name": "python"
  }
 },
 "nbformat": 4,
 "nbformat_minor": 2
}
