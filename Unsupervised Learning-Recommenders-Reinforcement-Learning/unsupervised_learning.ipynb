{
 "cells": [
  {
   "cell_type": "markdown",
   "metadata": {},
   "source": [
    "## Clustering"
   ]
  },
  {
   "cell_type": "markdown",
   "metadata": {},
   "source": [
    "looks at a number of datapoints and finds datapoints that are similar to each other\n",
    "\n",
    "Applications\n",
    "- similar news articles\n",
    "- market segmentation\n",
    "- DNA analysis\n",
    "- astronomical data analysis"
   ]
  },
  {
   "cell_type": "markdown",
   "metadata": {},
   "source": [
    "***k-means clustering algorithm***\n",
    "- Step 1: randomly initialize K cluster centroids\n",
    "- Step 2: assign points to cluster centroids closest to each training examples (get L2 norm or distance) \n",
    "- Step 3: move cluster centroids to be updated to mean of the **points assigned to that cluster**. Eliminate cluster or randomly reinitalize cluster centroid if no points are assigned (eliminating is more popular)\n",
    "\n",
    "- Repeat steps 2 and 3\n"
   ]
  },
  {
   "cell_type": "markdown",
   "metadata": {},
   "source": [
    "**k-means optimization objective**\n",
    "c^(i) = index of cluster (1, 2, ... K) to which example x^(i) is currently assigned\n",
    "μ_k = cluster centroid k\n",
    "μ_c^(i) = cluster centroid of cluster to whoch example x^(i) has been assigned\n",
    "\n",
    "**Distortion Cost Function**: J = 1/m ∑ ||x^(i) - μ_c^(i) || ^ 2\n",
    "average of squared distances between every training example and the location of the cluster centeroid to which the training example has been assigned\n",
    "- every single step the cost function should decrease\n",
    "    - if it doesnt go down, it has converged\n",
    "    - if it goes up, there is an error in the code"
   ]
  },
  {
   "cell_type": "markdown",
   "metadata": {},
   "source": [
    "**Initializing K-Means**\n",
    "- Choose K < m\n",
    "- randomly pick K training examples\n",
    "- set μ_1, ... μ_k equal to these K examples\n",
    "<br> <br>\n",
    "- then run K means to get all c and μ\n",
    "- compute cost function (distortion)\n",
    "- repeat ~100 times\n",
    "<br><br>\n",
    "- pick the set of clusters that gave lowest cost J"
   ]
  },
  {
   "cell_type": "markdown",
   "metadata": {},
   "source": [
    "**Choosing the Number of Clusters**\n",
    "- Elbow Method: run K means with variety values of K, plot distortion/cost as a function of number of clusters, pikc the \"elbow\" where cost decreaes sharply up to a clear elbow\n",
    "\n",
    "- In practice, you are often running K means for a later (downstream) purpose -> evaluate how well it does for that downstream purpose!"
   ]
  },
  {
   "cell_type": "code",
   "execution_count": null,
   "metadata": {},
   "outputs": [],
   "source": []
  }
 ],
 "metadata": {
  "kernelspec": {
   "display_name": "Python 3",
   "language": "python",
   "name": "python3"
  },
  "language_info": {
   "name": "python",
   "version": "3.11.9"
  }
 },
 "nbformat": 4,
 "nbformat_minor": 2
}
