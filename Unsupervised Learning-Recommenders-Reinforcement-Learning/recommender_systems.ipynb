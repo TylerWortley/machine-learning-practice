{
 "cells": [
  {
   "cell_type": "markdown",
   "metadata": {},
   "source": [
    "## Cost Function\n",
    "\n",
    "Notation\n",
    "- r(i,j) = 1 if user j has rater movie i (0 if they have not yet rated)\n",
    "- $y^{(i,j)}$ = rating fiven by user j on movie i (if defined)\n",
    "- $w^{(j)}$, $b^{(j)}$ = parameters for user j\n",
    "- $x^{(i)}$ = feature vector for movie i\n",
    "- $m^{(j)}$ = number of movies rated by user j\n",
    "\n",
    "For user j and movie i, predicted rating =  $w^{(j)}$ ⋅ $x^{(i)}$ + $b^{(j)}$\n",
    "\n",
    "**Cost Function** \n",
    "$$\\frac{1}{2} \\sum_{i:r(i,j) = 1} (w^{(j)} ⋅ x^{(i)} + b^{(j)} - y^{(i,j)}) + \\frac{λ}{2} \\sum_{k=1}^n (w_k^{(j)})^2 $$\n",
    "- sum cost function for all users"
   ]
  },
  {
   "cell_type": "markdown",
   "metadata": {},
   "source": [
    "**Collaborative Filtering**\n",
    "$$\\frac{1}{2} \\sum_{i:r(i,j) = 1} (w^{(j)} ⋅ x^{(i)} + b^{(j)} - y^{(i,j)}) + \\frac{λ}{2} \\sum_{i=1}^{n_u} \\sum_{k=1}^n (w_k^{(j)})^2 \\frac{λ}{2} + \\sum_{i=1}^{n_m} \\sum_{k=1}^n (w_k^{(j)})^2$$"
   ]
  },
  {
   "cell_type": "markdown",
   "metadata": {},
   "source": [
    "- cost function now a function of w, b, and x rather than just w and b\n",
    "- through gradient descent, update all values\n"
   ]
  },
  {
   "cell_type": "markdown",
   "metadata": {},
   "source": [
    "**Binary Labels**\n",
    "- rather than predicting y through a linear funciton, use logistic function\n",
    " $$ \\sum_{(i,j):r(i,j) = 1} L(f_{(w,b,x)}, y^{(i,j)}) $$\n",
    " where \n",
    "$$L(f_{(w,b,x)}, y^{(i,j)}) = -y^{(i,j)}log(f_{(w,b,x)}(x)) - (1-y^{(i,j)})log(1-f_{(w,b,x)}(x))$$\n",
    " $$ f_{(w,b,x)}(x) = g(w^{(j)} ⋅ x^{(i)} + b^{(j)}) $$"
   ]
  }
 ],
 "metadata": {
  "language_info": {
   "name": "python"
  }
 },
 "nbformat": 4,
 "nbformat_minor": 2
}
