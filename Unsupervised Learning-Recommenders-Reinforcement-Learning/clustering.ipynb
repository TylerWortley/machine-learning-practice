{
 "cells": [
  {
   "cell_type": "markdown",
   "metadata": {},
   "source": [
    "## Clustering"
   ]
  },
  {
   "cell_type": "markdown",
   "metadata": {},
   "source": [
    "looks at a number of datapoints and finds datapoints that are similar to each other\n",
    "\n",
    "Applications\n",
    "- similar news articles\n",
    "- market segmentation\n",
    "- DNA analysis\n",
    "- astronomical data analysis"
   ]
  },
  {
   "cell_type": "markdown",
   "metadata": {},
   "source": [
    "***k-means clustering algorithm***\n",
    "- Step 1: randomly initialize K cluster centroids\n",
    "- Step 2: assign points to cluster centroids closest to each training examples (get L2 norm or distance) \n",
    "- Step 3: move cluster centroids to be updated to mean of the **points assigned to that cluster**. Eliminate cluster or randomly reinitalize cluster centroid if no points are assigned (eliminating is more popular)\n",
    "\n",
    "- Repeat steps 2 and 3\n"
   ]
  },
  {
   "cell_type": "markdown",
   "metadata": {},
   "source": [
    "**k-means optimization objective**\n",
    "c^(i) = index of cluster (1, 2, ... K) to which example x^(i) is currently assigned\n",
    "μ_k = cluster centroid k\n",
    "μ_c^(i) = cluster centroid of cluster to whoch example x^(i) has been assigned\n",
    "\n",
    "**Distortion Cost Function**: J = 1/m ∑ ||x^(i) - μ_c^(i) || ^ 2\n",
    "average of squared distances between every training example and the location of the cluster centeroid to which the training example has been assigned\n",
    "- every single step the cost function should decrease\n",
    "    - if it doesnt go down, it has converged\n",
    "    - if it goes up, there is an error in the code"
   ]
  },
  {
   "cell_type": "markdown",
   "metadata": {},
   "source": [
    "**Initializing K-Means**\n",
    "- Choose K < m\n",
    "- randomly pick K training examples\n",
    "- set μ_1, ... μ_k equal to these K examples\n",
    "<br> <br>\n",
    "- then run K means to get all c and μ\n",
    "- compute cost function (distortion)\n",
    "- repeat ~100 times\n",
    "<br><br>\n",
    "- pick the set of clusters that gave lowest cost J"
   ]
  },
  {
   "cell_type": "markdown",
   "metadata": {},
   "source": [
    "**Choosing the Number of Clusters**\n",
    "- Elbow Method: run K means with variety values of K, plot distortion/cost as a function of number of clusters, pikc the \"elbow\" where cost decreaes sharply up to a clear elbow\n",
    "\n",
    "- In practice, you are often running K means for a later (downstream) purpose -> evaluate how well it does for that downstream purpose!"
   ]
  },
  {
   "cell_type": "markdown",
   "metadata": {},
   "source": [
    "## K-Means Example"
   ]
  },
  {
   "cell_type": "markdown",
   "metadata": {},
   "source": [
    "The K-means algorithm is a method to automatically cluster similar\n",
    "data points together. \n",
    "\n",
    "* Concretely, you are given a training set $\\{x^{(1)}, ..., x^{(m)}\\}$, and you want\n",
    "to group the data into a few cohesive “clusters”. \n",
    "\n",
    "\n",
    "* K-means is an iterative procedure that\n",
    "     * Starts by guessing the initial centroids, and then \n",
    "     * Refines this guess by \n",
    "         * Repeatedly assigning examples to their closest centroids, and then \n",
    "         * Recomputing the centroids based on the assignments.\n",
    "         \n",
    "\n",
    "* In pseudocode, the K-means algorithm is as follows:\n",
    "\n",
    "    ``` python\n",
    "    # Initialize centroids\n",
    "    # K is the number of clusters\n",
    "    centroids = kMeans_init_centroids(X, K)\n",
    "    \n",
    "    for iter in range(iterations):\n",
    "        # Cluster assignment step: \n",
    "        # Assign each data point to the closest centroid. \n",
    "        # idx[i] corresponds to the index of the centroid \n",
    "        # assigned to example i\n",
    "        idx = find_closest_centroids(X, centroids)\n",
    "\n",
    "        # Move centroid step: \n",
    "        # Compute means based on centroid assignments\n",
    "        centroids = compute_centroids(X, idx, K)\n",
    "    ```\n",
    "\n",
    "\n",
    "* The inner-loop of the algorithm repeatedly carries out two steps: \n",
    "    1. Assigning each training example $x^{(i)}$ to its closest centroid, and\n",
    "    2. Recomputing the mean of each centroid using the points assigned to it. \n",
    "    \n",
    "    \n",
    "* The $K$-means algorithm will always converge to some final set of means for the centroids. \n",
    "\n",
    "* However, the converged solution may not always be ideal and depends on the initial setting of the centroids.\n",
    "    * Therefore, in practice the K-means algorithm is usually run a few times with different random initializations. \n",
    "    * One way to choose between these different solutions from different random initializations is to choose the one with the lowest cost function value (distortion).\n",
    "\n",
    "You will implement the two phases of the K-means algorithm separately\n",
    "in the next sections. \n",
    "* You will start by completing `find_closest_centroid` and then proceed to complete `compute_centroids`."
   ]
  },
  {
   "cell_type": "code",
   "execution_count": 1,
   "metadata": {},
   "outputs": [],
   "source": [
    "import numpy as np \n",
    "import matplotlib.pyplot as plt"
   ]
  },
  {
   "cell_type": "markdown",
   "metadata": {},
   "source": [
    "* **find_closest_centroids** takes the data matrix `X` and the locations of all\n",
    "centroids inside `centroids` \n",
    "* It should output a one-dimensional array `idx` (which has the same number of elements as `X`) that holds the index  of the closest centroid (a value in $\\{0,...,K-1\\}$, where $K$ is total number of centroids) to every training example . *(Note: The index range 0 to K-1 varies slightly from what is shown in the lectures (i.e. 1 to K) because Python list indices start at 0 instead of 1)*\n",
    "* Specifically, for every example $x^{(i)}$ we set\n",
    "$$c^{(i)} := j \\quad \\mathrm{that \\; minimizes} \\quad ||x^{(i)} - \\mu_j||^2,$$\n",
    "where \n",
    " * $c^{(i)}$ is the index of the centroid that is closest to $x^{(i)}$ (corresponds to `idx[i]` in the starter code), and \n",
    " * $\\mu_j$ is the position (value) of the $j$’th centroid. (stored in `centroids` in the starter code)\n",
    " * $||x^{(i)} - \\mu_j||$ is the L2-norm"
   ]
  },
  {
   "cell_type": "code",
   "execution_count": 2,
   "metadata": {},
   "outputs": [],
   "source": [
    "def find_closest_centroids(X, centroids):\n",
    "    K = centroids.shape[0]\n",
    "\n",
    "    idx = np.zeros(X.shape[0], dtype = int)\n",
    "\n",
    "    for i in range(X.shape[0]):\n",
    "        # holds costs between X[i] and each centroids[j]\n",
    "        costs = []\n",
    "\n",
    "        # loop through all centroids\n",
    "        for j in range(centroids.shape[0]):\n",
    "            norm_ij = np.linalg.norm(X[i] - centroids[j])\n",
    "            cost_ij = norm_ij ** 2\n",
    "\n",
    "            costs.append(cost_ij)\n",
    "\n",
    "        # assign closest centroid to exmaple i \n",
    "        idx[i] = np.argmin(costs)\n",
    "        \n",
    "    return idx"
   ]
  },
  {
   "cell_type": "markdown",
   "metadata": {},
   "source": [
    "**compute_centroids** - recompute the value for each centroid\n",
    "\n",
    "* Specifically, for every centroid $\\mu_k$ we set\n",
    "$$\\mu_k = \\frac{1}{|C_k|} \\sum_{i \\in C_k} x^{(i)}$$ \n",
    "\n",
    "    where \n",
    "    * C_k is the set of examples that are assigned to centroid k\n",
    "    * |C_k| is the number of examples in the set C_k\n",
    "\n",
    "\n",
    "* Concretely, if two examples say $x^{(3)}$ and $x^{(5)}$ are assigned to centroid k=2,\n",
    "then you should update $$\\mu_2 = \\frac{1}{2}(x^{(3)}+x^{(5)})$$."
   ]
  },
  {
   "cell_type": "code",
   "execution_count": null,
   "metadata": {},
   "outputs": [],
   "source": [
    "def compute_centroids(X, idx, K):\n",
    "    m, n = X.shape\n",
    "    centroids = np.zeros((K, n))\n",
    "\n",
    "    for i in range(K):\n",
    "        assigned_points = X[idx == i] # points assinged to specific centroid i\n",
    "        centroids[i] = np.mean(assigned_points, axis = 0)\n",
    "    \n",
    "    return centroids"
   ]
  }
 ],
 "metadata": {
  "kernelspec": {
   "display_name": "Python 3",
   "language": "python",
   "name": "python3"
  },
  "language_info": {
   "codemirror_mode": {
    "name": "ipython",
    "version": 3
   },
   "file_extension": ".py",
   "mimetype": "text/x-python",
   "name": "python",
   "nbconvert_exporter": "python",
   "pygments_lexer": "ipython3",
   "version": "3.11.9"
  }
 },
 "nbformat": 4,
 "nbformat_minor": 2
}
