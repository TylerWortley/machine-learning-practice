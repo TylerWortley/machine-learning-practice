{
 "cells": [
  {
   "cell_type": "markdown",
   "metadata": {},
   "source": [
    "**Principal Component Analysis**\n",
    "- algorithm commonly used for feature visualization\n",
    "- lets you recude many features to just a few\n",
    "- find one or more new axis to use fewer numbers to capture a combined feature\n",
    "- 10, 50, 1000 features -> 2 or 3 features"
   ]
  },
  {
   "cell_type": "markdown",
   "metadata": {},
   "source": []
  }
 ],
 "metadata": {
  "language_info": {
   "name": "python"
  }
 },
 "nbformat": 4,
 "nbformat_minor": 2
}
