{
 "cells": [
  {
   "cell_type": "markdown",
   "metadata": {},
   "source": [
    "**Principal Component Analysis**\n",
    "- algorithm commonly used for feature visualization\n",
    "- lets you recude many features to just a few\n",
    "- find one or more new axis to use fewer numbers to capture a combined feature\n",
    "- 10, 50, 1000 features -> 2 or 3 features"
   ]
  },
  {
   "cell_type": "markdown",
   "metadata": {},
   "source": [
    "**PCA Algorithm**"
   ]
  },
  {
   "cell_type": "markdown",
   "metadata": {},
   "source": [
    "- preprocessing\n",
    "    - features should be normaized to have zero mean\n",
    "    - if x1 and x2 take on very different scales, perform feature scaling\n",
    "- Choose an axis and project to selecetd axis -> this is called the **Principal Component**\n",
    "    - variance should be large so lots of the information is captures (large spread of projected points)\n",
    "\n",
    "\n",
    "- to get coordinat on the new axis, take the dot product between the coordinates and the length 1 vector"
   ]
  },
  {
   "cell_type": "markdown",
   "metadata": {},
   "source": [
    "**PCA is not Linear Regression**\n",
    "- unlabelled data and not trying to use x1 to predict x2 (y) -> algorithm treats them both equally\n",
    "- instead of measuring vertical distance between the line, we are minimizing the perpendicular distance between point and line"
   ]
  }
 ],
 "metadata": {
  "language_info": {
   "name": "python"
  }
 },
 "nbformat": 4,
 "nbformat_minor": 2
}
